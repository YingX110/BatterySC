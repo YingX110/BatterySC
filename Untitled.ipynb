{
 "cells": [
  {
   "cell_type": "code",
   "execution_count": 1,
   "id": "b4a227f0",
   "metadata": {},
   "outputs": [],
   "source": [
    "import pandas as pd"
   ]
  },
  {
   "cell_type": "code",
   "execution_count": 5,
   "id": "d1c75d2b",
   "metadata": {},
   "outputs": [],
   "source": [
    "country = pd.read_csv('Country1.csv')"
   ]
  },
  {
   "cell_type": "code",
   "execution_count": 10,
   "id": "2fa32ccf",
   "metadata": {},
   "outputs": [],
   "source": [
    "subset = country.Nation.unique().tolist()"
   ]
  },
  {
   "cell_type": "code",
   "execution_count": 11,
   "id": "8d1bc4d1",
   "metadata": {},
   "outputs": [
    {
     "data": {
      "text/plain": [
       "36"
      ]
     },
     "execution_count": 11,
     "metadata": {},
     "output_type": "execute_result"
    }
   ],
   "source": [
    "len(subset)"
   ]
  },
  {
   "cell_type": "code",
   "execution_count": 15,
   "id": "0f5b012d",
   "metadata": {},
   "outputs": [],
   "source": [
    "Nation_db = pd.read_csv('Nation_TotalC.csv', index_col=0)"
   ]
  },
  {
   "cell_type": "code",
   "execution_count": 20,
   "id": "273ce057",
   "metadata": {},
   "outputs": [],
   "source": [
    "nameset = Nation_db.columns.tolist()"
   ]
  },
  {
   "cell_type": "code",
   "execution_count": 22,
   "id": "680d9a99",
   "metadata": {},
   "outputs": [],
   "source": [
    "exist = []\n",
    "notin = []\n",
    "for n in subset:\n",
    "    if n in nameset:\n",
    "        exist.append(n)\n",
    "    else:\n",
    "        notin.append(n)"
   ]
  },
  {
   "cell_type": "code",
   "execution_count": 23,
   "id": "67ba97ea",
   "metadata": {},
   "outputs": [
    {
     "data": {
      "text/plain": [
       "['Argentina',\n",
       " 'Australia',\n",
       " 'Brazil',\n",
       " 'Chile',\n",
       " 'China',\n",
       " 'Portugal',\n",
       " 'Zimbabwe',\n",
       " 'Canada',\n",
       " 'Cuba',\n",
       " 'Indonesia',\n",
       " 'Madagascar',\n",
       " 'Morocco',\n",
       " 'Papua New Guinea',\n",
       " 'Philippines',\n",
       " 'Russia',\n",
       " 'India',\n",
       " 'Mozambique',\n",
       " 'Norway',\n",
       " 'Sri Lanka',\n",
       " 'Ukraine',\n",
       " 'Vietnam',\n",
       " 'Gabon',\n",
       " 'Ghana',\n",
       " 'Malaysia',\n",
       " 'South Africa',\n",
       " 'Belgium',\n",
       " 'Germany',\n",
       " 'Japan',\n",
       " 'Netherlands',\n",
       " 'Hungary',\n",
       " 'Poland']"
      ]
     },
     "execution_count": 23,
     "metadata": {},
     "output_type": "execute_result"
    }
   ],
   "source": [
    "exist"
   ]
  },
  {
   "cell_type": "code",
   "execution_count": 24,
   "id": "ca6878f6",
   "metadata": {},
   "outputs": [
    {
     "data": {
      "text/plain": [
       "['Congo', 'USA', 'North Korea', 'Cote', 'Korea']"
      ]
     },
     "execution_count": 24,
     "metadata": {},
     "output_type": "execute_result"
    }
   ],
   "source": [
    "notin"
   ]
  },
  {
   "cell_type": "code",
   "execution_count": 29,
   "id": "c0ade084",
   "metadata": {},
   "outputs": [],
   "source": [
    "df = pd.DataFrame(exist, columns =['IN']) "
   ]
  },
  {
   "cell_type": "code",
   "execution_count": 31,
   "id": "8c3f5174",
   "metadata": {},
   "outputs": [],
   "source": [
    "df.to_csv('ctyinfo.csv', index=True)"
   ]
  },
  {
   "cell_type": "code",
   "execution_count": 32,
   "id": "f5a9755f",
   "metadata": {},
   "outputs": [],
   "source": [
    "df2 = pd.DataFrame(nameset, columns =['Name']) \n",
    "df2.to_csv('name.csv', index=True)"
   ]
  },
  {
   "cell_type": "code",
   "execution_count": null,
   "id": "e812ed9b",
   "metadata": {},
   "outputs": [],
   "source": []
  }
 ],
 "metadata": {
  "kernelspec": {
   "display_name": "Python 3 (ipykernel)",
   "language": "python",
   "name": "python3"
  },
  "language_info": {
   "codemirror_mode": {
    "name": "ipython",
    "version": 3
   },
   "file_extension": ".py",
   "mimetype": "text/x-python",
   "name": "python",
   "nbconvert_exporter": "python",
   "pygments_lexer": "ipython3",
   "version": "3.10.4"
  }
 },
 "nbformat": 4,
 "nbformat_minor": 5
}
